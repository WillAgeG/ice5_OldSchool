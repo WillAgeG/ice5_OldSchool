{
 "cells": [
  {
   "cell_type": "code",
   "execution_count": 1,
   "id": "ecdb5c24",
   "metadata": {},
   "outputs": [],
   "source": [
    "import pandas as pd\n",
    "import numpy as np\n",
    "import matplotlib.pyplot as plt\n",
    "import random"
   ]
  },
  {
   "cell_type": "code",
   "execution_count": 3,
   "id": "4a457bc3",
   "metadata": {},
   "outputs": [],
   "source": [
    "data = pd.read_csv(\"product.csv\")\n",
    "data2 = pd.read_csv(\"new_product.csv\")"
   ]
  },
  {
   "cell_type": "code",
   "execution_count": 44,
   "id": "3770521c",
   "metadata": {},
   "outputs": [],
   "source": [
    "data.loc[len(data.index)] = [2, 7, 180, 12, \"Milk\", \"Cow\", \"2023-12-14\"]"
   ]
  },
  {
   "cell_type": "code",
   "execution_count": 4,
   "id": "3b4bc911",
   "metadata": {},
   "outputs": [],
   "source": [
    "vid_produktov = ['Молоко', 'Хлеб', 'Сникерс', 'Милкис', 'Мороженое', 'Яйца', 'Мясо', 'Огурцы', 'Помидоры', 'Картофель','Масло', 'Сахар', 'Мука', 'Соль', 'Перец', 'Рис', 'Гречка', 'Мед', 'Чай', 'Кофе', 'Сливки', 'Сметана', 'Йогурт', 'Творог', 'Кефир', 'Сырокопчености', 'Колбаса', 'Бекон', 'Сосиски', 'Ветчина', 'Капуста', 'Морковь', 'Лук', 'Чеснок', 'Петрушка', 'Укроп', 'Белокочанная капуста', 'Картошка', 'Свекла', 'Редис', 'Редька', 'Баклажан', 'Перец сладкий', 'Томаты', 'Огурец', 'Зеленый горошек', 'Фасоль', 'Лимон', 'Апельсин', 'Яблоко', 'Груша', 'Слива', 'Персик', 'Абрикос', 'Вишня', 'Смородина', 'Клубника']"
   ]
  },
  {
   "cell_type": "code",
   "execution_count": 5,
   "id": "3cb6e924",
   "metadata": {},
   "outputs": [],
   "source": [
    "magazines = [\"Больше-меньше\", \"Пятерочка\", \"Магнит\", \"Перекресток\", \"Лента\", \"Макс-маркет\"]"
   ]
  },
  {
   "cell_type": "code",
   "execution_count": 141,
   "id": "827a656d",
   "metadata": {},
   "outputs": [
    {
     "name": "stdout",
     "output_type": "stream",
     "text": [
      "id            int64\n",
      "idProduct     int64\n",
      "Life          int64\n",
      "Count         int64\n",
      "Name         object\n",
      "Shop         object\n",
      "End          object\n",
      "dtype: object\n"
     ]
    }
   ],
   "source": [
    "print(data.dtypes)"
   ]
  },
  {
   "cell_type": "code",
   "execution_count": 139,
   "id": "d586a63d",
   "metadata": {},
   "outputs": [],
   "source": [
    "for i in range(1, 1000):\n",
    "    random_index = random.randint(0, len(vid_produktov) - 1)\n",
    "    sluch_vid_produkt = vid_produktov[random_index]\n",
    "    \n",
    "    random_index2 = random.randint(0, len(magazines) - 1)\n",
    "    sluch_vid_magazine = magazines[random_index2]\n",
    "    \n",
    "    year = int(random.random() * 2) + 2023\n",
    "    month = int(random.random() * 11) + 1\n",
    "    day = int(random.random() * 28) + 1\n",
    "    \n",
    "    data.loc[len(data.index)] = [1+i, 6+i, int(random.random() * 365), int(random.random() * 100), sluch_vid_produkt, sluch_vid_magazine, f\"{year}-{month}-{day}\"]"
   ]
  },
  {
   "cell_type": "code",
   "execution_count": 181,
   "id": "55058db8",
   "metadata": {},
   "outputs": [
    {
     "data": {
      "text/html": [
       "<div>\n",
       "<style scoped>\n",
       "    .dataframe tbody tr th:only-of-type {\n",
       "        vertical-align: middle;\n",
       "    }\n",
       "\n",
       "    .dataframe tbody tr th {\n",
       "        vertical-align: top;\n",
       "    }\n",
       "\n",
       "    .dataframe thead th {\n",
       "        text-align: right;\n",
       "    }\n",
       "</style>\n",
       "<table border=\"1\" class=\"dataframe\">\n",
       "  <thead>\n",
       "    <tr style=\"text-align: right;\">\n",
       "      <th></th>\n",
       "      <th>id</th>\n",
       "      <th>Name</th>\n",
       "      <th>Product</th>\n",
       "      <th>Life</th>\n",
       "      <th>Quantity</th>\n",
       "      <th>Cal</th>\n",
       "    </tr>\n",
       "  </thead>\n",
       "  <tbody>\n",
       "    <tr>\n",
       "      <th>0</th>\n",
       "      <td>1</td>\n",
       "      <td>Cow</td>\n",
       "      <td>Milk</td>\n",
       "      <td>26</td>\n",
       "      <td>15</td>\n",
       "      <td>1600</td>\n",
       "    </tr>\n",
       "  </tbody>\n",
       "</table>\n",
       "</div>"
      ],
      "text/plain": [
       "   id Name Product  Life  Quantity   Cal\n",
       "0   1  Cow    Milk    26        15  1600"
      ]
     },
     "execution_count": 181,
     "metadata": {},
     "output_type": "execute_result"
    }
   ],
   "source": [
    "data2"
   ]
  },
  {
   "cell_type": "code",
   "execution_count": 144,
   "id": "0ee06704",
   "metadata": {},
   "outputs": [
    {
     "data": {
      "text/html": [
       "<div>\n",
       "<style scoped>\n",
       "    .dataframe tbody tr th:only-of-type {\n",
       "        vertical-align: middle;\n",
       "    }\n",
       "\n",
       "    .dataframe tbody tr th {\n",
       "        vertical-align: top;\n",
       "    }\n",
       "\n",
       "    .dataframe thead th {\n",
       "        text-align: right;\n",
       "    }\n",
       "</style>\n",
       "<table border=\"1\" class=\"dataframe\">\n",
       "  <thead>\n",
       "    <tr style=\"text-align: right;\">\n",
       "      <th></th>\n",
       "      <th>id</th>\n",
       "      <th>Name</th>\n",
       "      <th>Product</th>\n",
       "      <th>Life</th>\n",
       "      <th>Quantity</th>\n",
       "      <th>Cal</th>\n",
       "    </tr>\n",
       "  </thead>\n",
       "  <tbody>\n",
       "    <tr>\n",
       "      <th>0</th>\n",
       "      <td>1</td>\n",
       "      <td>Cow</td>\n",
       "      <td>Milk</td>\n",
       "      <td>26</td>\n",
       "      <td>15</td>\n",
       "      <td>1600</td>\n",
       "    </tr>\n",
       "  </tbody>\n",
       "</table>\n",
       "</div>"
      ],
      "text/plain": [
       "   id Name Product  Life  Quantity   Cal\n",
       "0   1  Cow    Milk    26        15  1600"
      ]
     },
     "execution_count": 144,
     "metadata": {},
     "output_type": "execute_result"
    }
   ],
   "source": []
  },
  {
   "cell_type": "code",
   "execution_count": 179,
   "id": "ffa20d09",
   "metadata": {},
   "outputs": [],
   "source": [
    "df = data[[\"id\", \"Name\", \"Shop\"]]"
   ]
  },
  {
   "cell_type": "code",
   "execution_count": 175,
   "id": "9d70a48b",
   "metadata": {},
   "outputs": [],
   "source": [
    "merged = pd.merge(data, data2, how='left')"
   ]
  },
  {
   "cell_type": "code",
   "execution_count": 185,
   "id": "c322d8d7",
   "metadata": {},
   "outputs": [
    {
     "name": "stderr",
     "output_type": "stream",
     "text": [
      "C:\\Users\\willa\\AppData\\Local\\Temp\\ipykernel_13920\\3014374625.py:1: SettingWithCopyWarning: \n",
      "A value is trying to be set on a copy of a slice from a DataFrame.\n",
      "Try using .loc[row_indexer,col_indexer] = value instead\n",
      "\n",
      "See the caveats in the documentation: https://pandas.pydata.org/pandas-docs/stable/user_guide/indexing.html#returning-a-view-versus-a-copy\n",
      "  df['Life'] = [int(random.random() * 180) + 1 for i in range(1, 1001)]\n"
     ]
    }
   ],
   "source": [
    "df['Life'] = [int(random.random() * 180) + 1 for i in range(1, 1001)]"
   ]
  },
  {
   "cell_type": "code",
   "execution_count": 187,
   "id": "2b8b72bf",
   "metadata": {},
   "outputs": [
    {
     "name": "stderr",
     "output_type": "stream",
     "text": [
      "C:\\Users\\willa\\AppData\\Local\\Temp\\ipykernel_13920\\1156267037.py:1: SettingWithCopyWarning: \n",
      "A value is trying to be set on a copy of a slice from a DataFrame.\n",
      "Try using .loc[row_indexer,col_indexer] = value instead\n",
      "\n",
      "See the caveats in the documentation: https://pandas.pydata.org/pandas-docs/stable/user_guide/indexing.html#returning-a-view-versus-a-copy\n",
      "  df['Quantity'] = [int(random.random() * 50) + 1 for i in range(1, 1001)]\n"
     ]
    }
   ],
   "source": [
    "df['Quantity'] = [int(random.random() * 50) + 1 for i in range(1, 1001)]"
   ]
  },
  {
   "cell_type": "code",
   "execution_count": 193,
   "id": "208250ea",
   "metadata": {},
   "outputs": [
    {
     "name": "stderr",
     "output_type": "stream",
     "text": [
      "C:\\Users\\willa\\AppData\\Local\\Temp\\ipykernel_13920\\2218845033.py:1: SettingWithCopyWarning: \n",
      "A value is trying to be set on a copy of a slice from a DataFrame.\n",
      "Try using .loc[row_indexer,col_indexer] = value instead\n",
      "\n",
      "See the caveats in the documentation: https://pandas.pydata.org/pandas-docs/stable/user_guide/indexing.html#returning-a-view-versus-a-copy\n",
      "  df['Cal'] = [int(random.random() * 1800) + 200 for i in range(1, 1001)]\n"
     ]
    }
   ],
   "source": [
    "df['Cal'] = [int(random.random() * 1800) + 200 for i in range(1, 1001)]"
   ]
  },
  {
   "cell_type": "code",
   "execution_count": 197,
   "id": "19a57dc8",
   "metadata": {},
   "outputs": [],
   "source": [
    "df.to_csv('product0.csv', index=False, encoding='utf-8')"
   ]
  },
  {
   "cell_type": "code",
   "execution_count": 198,
   "id": "3c339d1c",
   "metadata": {},
   "outputs": [],
   "source": [
    "data.to_csv('product1.csv', index=False, encoding='utf-8')"
   ]
  }
 ],
 "metadata": {
  "kernelspec": {
   "display_name": "Python 3 (ipykernel)",
   "language": "python",
   "name": "python3"
  },
  "language_info": {
   "codemirror_mode": {
    "name": "ipython",
    "version": 3
   },
   "file_extension": ".py",
   "mimetype": "text/x-python",
   "name": "python",
   "nbconvert_exporter": "python",
   "pygments_lexer": "ipython3",
   "version": "3.11.5"
  }
 },
 "nbformat": 4,
 "nbformat_minor": 5
}
